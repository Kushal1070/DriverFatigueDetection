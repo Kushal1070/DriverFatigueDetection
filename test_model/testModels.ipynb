{
 "cells": [
  {
   "cell_type": "code",
   "execution_count": 17,
   "metadata": {},
   "outputs": [],
   "source": [
    "from keras.models import load_model\n",
    "from keras.utils import load_img\n",
    "from keras.utils import img_to_array\n",
    "import numpy as np\n",
    "\n",
    "final_model = load_model('weights5.hdf5', compile=True)\n"
   ]
  },
  {
   "cell_type": "code",
   "execution_count": 32,
   "metadata": {},
   "outputs": [
    {
     "name": "stdout",
     "output_type": "stream",
     "text": [
      "1/1 [==============================] - 0s 22ms/step\n",
      "1/1 [==============================] - 0s 23ms/step\n",
      "1\n",
      "1\n"
     ]
    }
   ],
   "source": [
    "test_image = load_img('data_eye/train/open_eye/s0001_02398_0_0_1_0_0_01.png', target_size=(150,150))\n",
    "test_image = img_to_array(test_image).astype(np.float32)\n",
    "test_image /= 255\n",
    "test_image = np.expand_dims(test_image, axis=0)\n",
    "\n",
    "test_image2 = load_img('data_eye/train/open_eye/s0001_02398_0_0_1_0_0_01.png', target_size=(150,150))\n",
    "test_image2 = img_to_array(test_image2).astype(np.float32)\n",
    "test_image2 /= 255\n",
    "test_image2 = np.expand_dims(test_image2, axis=0)\n",
    "\n",
    "result = final_model.predict(test_image)\n",
    "result2 = final_model.predict(test_image2)\n",
    "\n",
    "pred = (result[0][0]> 0.5).astype(\"int32\")\n",
    "pred2 = (result2[0][0]> 0.5).astype(\"int32\")\n",
    "\n",
    "print(pred)\n",
    "print(pred2)\n",
    "# test_generator"
   ]
  }
 ],
 "metadata": {
  "kernelspec": {
   "display_name": "cnn_op",
   "language": "python",
   "name": "python3"
  },
  "language_info": {
   "codemirror_mode": {
    "name": "ipython",
    "version": 3
   },
   "file_extension": ".py",
   "mimetype": "text/x-python",
   "name": "python",
   "nbconvert_exporter": "python",
   "pygments_lexer": "ipython3",
   "version": "3.9.13 (main, Aug 25 2022, 23:51:50) [MSC v.1916 64 bit (AMD64)]"
  },
  "orig_nbformat": 4,
  "vscode": {
   "interpreter": {
    "hash": "149b0753c29096a297e9c7453fcab7ba237fdbb7c39f0cf063a102c0b46b0bd3"
   }
  }
 },
 "nbformat": 4,
 "nbformat_minor": 2
}
